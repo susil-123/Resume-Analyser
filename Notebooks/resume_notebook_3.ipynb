{
 "cells": [
  {
   "cell_type": "code",
   "execution_count": 3,
   "id": "c75a7d5a-7927-4daf-b638-2d7f9cf0b424",
   "metadata": {},
   "outputs": [],
   "source": [
    "import numpy as np\n",
    "import pandas as pd\n",
    "import pickle\n",
    "from nltk.tokenize import word_tokenize\n",
    "from nltk.corpus import stopwords\n",
    "from nltk.stem import WordNetLemmatizer\n",
    "lemmatizer = WordNetLemmatizer()\n",
    "from sklearn.feature_extraction.text import TfidfVectorizer\n",
    "vectorizer = TfidfVectorizer()\n",
    "from sklearn.preprocessing import LabelEncoder\n",
    "label_encoder = LabelEncoder()\n",
    "from sklearn.linear_model import LogisticRegression\n",
    "lr = LogisticRegression()\n",
    "from sklearn.model_selection import train_test_split\n",
    "from sklearn.metrics import accuracy_score"
   ]
  },
  {
   "cell_type": "code",
   "execution_count": 4,
   "id": "a66dff28-642a-4efe-af4d-18291ff65b77",
   "metadata": {},
   "outputs": [],
   "source": [
    "df = pd.read_csv('./data/resume_dataset.csv')"
   ]
  },
  {
   "cell_type": "code",
   "execution_count": 5,
   "id": "51ab2992-6d46-454e-9ac7-87fb121318e1",
   "metadata": {},
   "outputs": [
    {
     "data": {
      "text/html": [
       "<div>\n",
       "<style scoped>\n",
       "    .dataframe tbody tr th:only-of-type {\n",
       "        vertical-align: middle;\n",
       "    }\n",
       "\n",
       "    .dataframe tbody tr th {\n",
       "        vertical-align: top;\n",
       "    }\n",
       "\n",
       "    .dataframe thead th {\n",
       "        text-align: right;\n",
       "    }\n",
       "</style>\n",
       "<table border=\"1\" class=\"dataframe\">\n",
       "  <thead>\n",
       "    <tr style=\"text-align: right;\">\n",
       "      <th></th>\n",
       "      <th>Category</th>\n",
       "      <th>Resume</th>\n",
       "    </tr>\n",
       "  </thead>\n",
       "  <tbody>\n",
       "    <tr>\n",
       "      <th>0</th>\n",
       "      <td>Data Science</td>\n",
       "      <td>Skills * Programming Languages: Python (pandas...</td>\n",
       "    </tr>\n",
       "    <tr>\n",
       "      <th>1</th>\n",
       "      <td>Data Science</td>\n",
       "      <td>Education Details \\r\\nMay 2013 to May 2017 B.E...</td>\n",
       "    </tr>\n",
       "    <tr>\n",
       "      <th>2</th>\n",
       "      <td>Data Science</td>\n",
       "      <td>Areas of Interest Deep Learning, Control Syste...</td>\n",
       "    </tr>\n",
       "    <tr>\n",
       "      <th>3</th>\n",
       "      <td>Data Science</td>\n",
       "      <td>Skills â¢ R â¢ Python â¢ SAP HANA â¢ Table...</td>\n",
       "    </tr>\n",
       "    <tr>\n",
       "      <th>4</th>\n",
       "      <td>Data Science</td>\n",
       "      <td>Education Details \\r\\n MCA   YMCAUST,  Faridab...</td>\n",
       "    </tr>\n",
       "  </tbody>\n",
       "</table>\n",
       "</div>"
      ],
      "text/plain": [
       "       Category                                             Resume\n",
       "0  Data Science  Skills * Programming Languages: Python (pandas...\n",
       "1  Data Science  Education Details \\r\\nMay 2013 to May 2017 B.E...\n",
       "2  Data Science  Areas of Interest Deep Learning, Control Syste...\n",
       "3  Data Science  Skills â¢ R â¢ Python â¢ SAP HANA â¢ Table...\n",
       "4  Data Science  Education Details \\r\\n MCA   YMCAUST,  Faridab..."
      ]
     },
     "execution_count": 5,
     "metadata": {},
     "output_type": "execute_result"
    }
   ],
   "source": [
    "df.head()"
   ]
  },
  {
   "cell_type": "markdown",
   "id": "e3952b99-9e16-4ee9-b7db-0697b0071dda",
   "metadata": {},
   "source": [
    "## BASIC EDA"
   ]
  },
  {
   "cell_type": "code",
   "execution_count": 6,
   "id": "fff073e1-a31b-460d-a90f-5fe4a4868751",
   "metadata": {},
   "outputs": [],
   "source": [
    "df_pr = df.copy()"
   ]
  },
  {
   "cell_type": "code",
   "execution_count": 7,
   "id": "7557061a-1176-417c-b410-a8bd49de370d",
   "metadata": {},
   "outputs": [],
   "source": [
    "resume_details = df_pr['Resume'][0].split('\\n\\n')"
   ]
  },
  {
   "cell_type": "code",
   "execution_count": 8,
   "id": "99ede9ed-2bb6-4698-b054-ddae6d52f050",
   "metadata": {},
   "outputs": [
    {
     "name": "stdout",
     "output_type": "stream",
     "text": [
      "Skills * Programming Languages: Python (pandas, numpy, scipy, scikit-learn, matplotlib), Sql, Java, JavaScript/JQuery. * Machine learning: Regression, SVM, NaÃ¯ve Bayes, KNN, Random Forest, Decision Trees, Boosting techniques, Cluster Analysis, Word Embedding, Sentiment Analysis, Natural Language processing, Dimensionality reduction, Topic Modelling (LDA, NMF), PCA & Neural Nets. * Database Visualizations: Mysql, SqlServer, Cassandra, Hbase, ElasticSearch D3.js, DC.js, Plotly, kibana, matplotlib, ggplot, Tableau. * Others: Regular Expression, HTML, CSS, Angular 6, Logstash, Kafka, Python Flask, Git, Docker, computer vision - Open CV and understanding of Deep learning.Education Details \n",
      "\n",
      "Data Science Assurance Associate \n",
      "\n",
      "Data Science Assurance Associate - Ernst & Young LLP\n",
      "Skill Details \n",
      "JAVASCRIPT- Exprience - 24 months\n",
      "jQuery- Exprience - 24 months\n",
      "Python- Exprience - 24 monthsCompany Details \n",
      "company - Ernst & Young LLP\n",
      "description - Fraud Investigations and Dispute Services   Assurance\n",
      "TECHNOLOGY ASSISTED REVIEW\n",
      "TAR (Technology Assisted Review) assists in accelerating the review process and run analytics and generate reports.\n",
      "* Core member of a team helped in developing automated review platform tool from scratch for assisting E discovery domain, this tool implements predictive coding and topic modelling by automating reviews, resulting in reduced labor costs and time spent during the lawyers review.\n",
      "* Understand the end to end flow of the solution, doing research and development for classification models, predictive analysis and mining of the information present in text data. Worked on analyzing the outputs and precision monitoring for the entire tool.\n",
      "* TAR assists in predictive coding, topic modelling from the evidence by following EY standards. Developed the classifier models in order to identify \"red flags\" and fraud-related issues.\n",
      "\n",
      "Tools & Technologies: Python, scikit-learn, tfidf, word2vec, doc2vec, cosine similarity, NaÃ¯ve Bayes, LDA, NMF for topic modelling, Vader and text blob for sentiment analysis. Matplot lib, Tableau dashboard for reporting.\n",
      "\n",
      "MULTIPLE DATA SCIENCE AND ANALYTIC PROJECTS (USA CLIENTS)\n",
      "TEXT ANALYTICS - MOTOR VEHICLE CUSTOMER REVIEW DATA * Received customer feedback survey data for past one year. Performed sentiment (Positive, Negative & Neutral) and time series analysis on customer comments across all 4 categories.\n",
      "* Created heat map of terms by survey category based on frequency of words * Extracted Positive and Negative words across all the Survey categories and plotted Word cloud.\n",
      "* Created customized tableau dashboards for effective reporting and visualizations.\n",
      "CHATBOT * Developed a user friendly chatbot for one of our Products which handle simple questions about hours of operation, reservation options and so on.\n",
      "* This chat bot serves entire product related questions. Giving overview of tool via QA platform and also give recommendation responses so that user question to build chain of relevant answer.\n",
      "* This too has intelligence to build the pipeline of questions as per user requirement and asks the relevant /recommended questions.\n",
      "\n",
      "Tools & Technologies: Python, Natural language processing, NLTK, spacy, topic modelling, Sentiment analysis, Word Embedding, scikit-learn, JavaScript/JQuery, SqlServer\n",
      "\n",
      "INFORMATION GOVERNANCE\n",
      "Organizations to make informed decisions about all of the information they store. The integrated Information Governance portfolio synthesizes intelligence across unstructured data sources and facilitates action to ensure organizations are best positioned to counter information risk.\n",
      "* Scan data from multiple sources of formats and parse different file formats, extract Meta data information, push results for indexing elastic search and created customized, interactive dashboards using kibana.\n",
      "* Preforming ROT Analysis on the data which give information of data which helps identify content that is either Redundant, Outdated, or Trivial.\n",
      "* Preforming full-text search analysis on elastic search with predefined methods which can tag as (PII) personally identifiable information (social security numbers, addresses, names, etc.) which frequently targeted during cyber-attacks.\n",
      "Tools & Technologies: Python, Flask, Elastic Search, Kibana\n",
      "\n",
      "FRAUD ANALYTIC PLATFORM\n",
      "Fraud Analytics and investigative platform to review all red flag cases.\n",
      "â¢ FAP is a Fraud Analytics and investigative platform with inbuilt case manager and suite of Analytics for various ERP systems.\n",
      "* It can be used by clients to interrogate their Accounting systems for identifying the anomalies which can be indicators of fraud by running advanced analytics\n",
      "Tools & Technologies: HTML, JavaScript, SqlServer, JQuery, CSS, Bootstrap, Node.js, D3.js, DC.js\n",
      "\n",
      "\n",
      "\n"
     ]
    }
   ],
   "source": [
    "for detail in resume_details:\n",
    "    print(detail,end='\\n\\n\\n\\n')"
   ]
  },
  {
   "cell_type": "code",
   "execution_count": 9,
   "id": "519629a8-3845-4cfc-b89d-bc7b9fecb599",
   "metadata": {},
   "outputs": [
    {
     "name": "stdout",
     "output_type": "stream",
     "text": [
      "<class 'pandas.core.frame.DataFrame'>\n",
      "RangeIndex: 962 entries, 0 to 961\n",
      "Data columns (total 2 columns):\n",
      " #   Column    Non-Null Count  Dtype \n",
      "---  ------    --------------  ----- \n",
      " 0   Category  962 non-null    object\n",
      " 1   Resume    962 non-null    object\n",
      "dtypes: object(2)\n",
      "memory usage: 15.2+ KB\n"
     ]
    }
   ],
   "source": [
    "df_pr.info()"
   ]
  },
  {
   "cell_type": "code",
   "execution_count": 10,
   "id": "5ac35c32-2541-498f-a727-8766ea60e4b6",
   "metadata": {},
   "outputs": [
    {
     "name": "stdout",
     "output_type": "stream",
     "text": [
      "Total no of categories: 25\n"
     ]
    }
   ],
   "source": [
    "print(f\"Total no of categories: {len(df['Category'].value_counts().tolist())}\")"
   ]
  },
  {
   "cell_type": "code",
   "execution_count": 14,
   "id": "8043794b-5ed5-4db5-bf70-e001c19c3389",
   "metadata": {},
   "outputs": [
    {
     "data": {
      "text/plain": [
       "Category\n",
       "Java Developer               84\n",
       "Testing                      70\n",
       "DevOps Engineer              55\n",
       "Python Developer             48\n",
       "Web Designing                45\n",
       "HR                           44\n",
       "Hadoop                       42\n",
       "Blockchain                   40\n",
       "ETL Developer                40\n",
       "Operations Manager           40\n",
       "Data Science                 40\n",
       "Sales                        40\n",
       "Mechanical Engineer          40\n",
       "Arts                         36\n",
       "Database                     33\n",
       "Electrical Engineering       30\n",
       "Health and fitness           30\n",
       "PMO                          30\n",
       "Business Analyst             28\n",
       "DotNet Developer             28\n",
       "Automation Testing           26\n",
       "Network Security Engineer    25\n",
       "SAP Developer                24\n",
       "Civil Engineer               24\n",
       "Advocate                     20\n",
       "Name: count, dtype: int64"
      ]
     },
     "execution_count": 14,
     "metadata": {},
     "output_type": "execute_result"
    }
   ],
   "source": [
    "df_pr['Category'].value_counts()"
   ]
  },
  {
   "cell_type": "code",
   "execution_count": 13,
   "id": "3695c338-aada-4230-b3f6-4c00acf6b046",
   "metadata": {},
   "outputs": [
    {
     "data": {
      "text/plain": [
       "<Axes: xlabel='Category'>"
      ]
     },
     "execution_count": 13,
     "metadata": {},
     "output_type": "execute_result"
    },
    {
     "data": {
      "image/png": "[encoded data removed]",
      "text/plain": [
       "<Figure size 640x480 with 1 Axes>"
      ]
     },
     "metadata": {},
     "output_type": "display_data"
    }
   ],
   "source": [
    "df_pr['Category'].value_counts().plot(kind='bar')"
   ]
  },
  {
   "cell_type": "code",
   "execution_count": 12,
   "id": "bd538eac-0015-4c54-903a-51b9200674b0",
   "metadata": {},
   "outputs": [
    {
     "data": {
      "text/plain": [
       "Category    0\n",
       "Resume      0\n",
       "dtype: int64"
      ]
     },
     "execution_count": 12,
     "metadata": {},
     "output_type": "execute_result"
    }
   ],
   "source": [
    "df_pr.isnull().sum()"
   ]
  },
  {
   "cell_type": "code",
   "execution_count": 12,
   "id": "05e630fc-18ec-4e0f-b598-adcc40ae959a",
   "metadata": {},
   "outputs": [
    {
     "data": {
      "text/plain": [
       "(962, 2)"
      ]
     },
     "execution_count": 12,
     "metadata": {},
     "output_type": "execute_result"
    }
   ],
   "source": [
    "df.shape"
   ]
  },
  {
   "cell_type": "code",
   "execution_count": null,
   "id": "f2e7a49f-e1ab-4700-951e-8cccda1a184d",
   "metadata": {},
   "outputs": [],
   "source": []
  },
  {
   "cell_type": "code",
   "execution_count": null,
   "id": "d6d572b3-9140-43aa-b945-9cede5f6e632",
   "metadata": {},
   "outputs": [],
   "source": []
  },
  {
   "cell_type": "markdown",
   "id": "2e20b4d4-1bdd-43ab-ba9b-3cad7d267052",
   "metadata": {},
   "source": [
    "## cleaning"
   ]
  },
  {
   "cell_type": "code",
   "execution_count": 15,
   "id": "35e045ec-1a36-4a1a-9919-82336b95fa72",
   "metadata": {},
   "outputs": [],
   "source": [
    "def preprocessing(text):\n",
    "    text = text.lower()\n",
    "    words = word_tokenize(text,language='english')\n",
    "    words = [lemmatizer.lemmatize(word,pos='v') for word in words if word not in stopwords.words('english')]\n",
    "    words = [i.replace(',','') for i in words]\n",
    "    words = [i.replace('.','') for i in words]\n",
    "    words = [i.replace('*','') for i in words]\n",
    "    words = [i.replace('-','') for i in words]\n",
    "    words = [i.replace(':','') for i in words]\n",
    "    return ' '.join(words)"
   ]
  },
  {
   "cell_type": "code",
   "execution_count": 16,
   "id": "500ab793-7142-4929-a3f6-a27367173e0e",
   "metadata": {},
   "outputs": [],
   "source": [
    "df_pr['resume_preprocessed'] = df_pr['Resume'].apply(lambda x:preprocessing(x))"
   ]
  },
  {
   "cell_type": "code",
   "execution_count": null,
   "id": "818fa9ce-ebbd-4bdf-a272-2f862e09f437",
   "metadata": {},
   "outputs": [],
   "source": []
  },
  {
   "cell_type": "code",
   "execution_count": 17,
   "id": "cc848fe2-1733-470b-b16d-0eb9b0dd2bf8",
   "metadata": {},
   "outputs": [],
   "source": [
    "df_pr.drop('Resume',axis=1,inplace=True)"
   ]
  },
  {
   "cell_type": "code",
   "execution_count": null,
   "id": "5d17769e-8e7b-4a5e-95da-7a2733769410",
   "metadata": {},
   "outputs": [],
   "source": []
  },
  {
   "cell_type": "code",
   "execution_count": 18,
   "id": "3326bd61-aa00-4cff-b271-011a69ee38c7",
   "metadata": {},
   "outputs": [],
   "source": [
    "df_pr.rename(columns = {\"Category\":\"category\",\"resume_preprocessed\":\"resume\"},inplace=True)"
   ]
  },
  {
   "cell_type": "code",
   "execution_count": null,
   "id": "0ba24ab8-9bfa-439f-b2bf-6acfb7a6ac56",
   "metadata": {},
   "outputs": [],
   "source": []
  },
  {
   "cell_type": "code",
   "execution_count": 19,
   "id": "273db010-dc40-4773-9fd6-c81ae489c48f",
   "metadata": {},
   "outputs": [],
   "source": [
    "df_pr['category'] = label_encoder.fit_transform(df_pr['category'])"
   ]
  },
  {
   "cell_type": "code",
   "execution_count": null,
   "id": "b251010c-30d6-44e3-83fe-4a42d30d8181",
   "metadata": {},
   "outputs": [],
   "source": []
  },
  {
   "cell_type": "code",
   "execution_count": 20,
   "id": "7d7a0322-8e62-4012-872f-5b7fd815b4f2",
   "metadata": {},
   "outputs": [],
   "source": [
    "resume_v = vectorizer.fit_transform(df_pr['resume'])"
   ]
  },
  {
   "cell_type": "code",
   "execution_count": 21,
   "id": "354e621c-44e7-4d5f-9146-90d027f802d1",
   "metadata": {},
   "outputs": [],
   "source": [
    "resume_df = pd.DataFrame(resume_v.toarray(),columns=vectorizer.get_feature_names_out())"
   ]
  },
  {
   "cell_type": "code",
   "execution_count": 21,
   "id": "237d33f1-3b11-4272-83f3-90ed96007689",
   "metadata": {},
   "outputs": [],
   "source": []
  },
  {
   "cell_type": "code",
   "execution_count": null,
   "id": "d4629eae-19b4-499e-ae07-b2bcf0de2403",
   "metadata": {},
   "outputs": [],
   "source": []
  },
  {
   "cell_type": "markdown",
   "id": "255602d4-cc03-433d-95bf-3bd48cb4beb8",
   "metadata": {},
   "source": [
    "## saving or retrieving the file"
   ]
  },
  {
   "cell_type": "code",
   "execution_count": 22,
   "id": "c6fbec41-27fc-4d9d-a53f-9bbb2f06299e",
   "metadata": {},
   "outputs": [],
   "source": [
    "with open('pre_df.pkl','wb') as fileobj:\n",
    "    pickle.dump(df_pr,fileobj)\n",
    "with open('resume_df.pkl','wb') as fileobj:\n",
    "    pickle.dump(resume_df,fileobj)"
   ]
  },
  {
   "cell_type": "code",
   "execution_count": 23,
   "id": "78054544-7574-4ef4-b1ed-cae5e0752d4e",
   "metadata": {},
   "outputs": [],
   "source": [
    "with open('pre_df.pkl','rb') as fileobj:\n",
    "    df_pr = pickle.load(fileobj)\n",
    "with open('resume_df.pkl','rb') as fileobj:\n",
    "    resume_df = pickle.load(fileobj)"
   ]
  },
  {
   "cell_type": "code",
   "execution_count": null,
   "id": "93682143-177c-4738-b936-f482a2d2a861",
   "metadata": {},
   "outputs": [],
   "source": []
  },
  {
   "cell_type": "code",
   "execution_count": null,
   "id": "1f782ed8-75e6-426b-8321-59276aaf492a",
   "metadata": {},
   "outputs": [],
   "source": []
  },
  {
   "cell_type": "markdown",
   "id": "387de5c3-ff57-4fb0-86c6-84fdc95bdb42",
   "metadata": {},
   "source": [
    "## Training"
   ]
  },
  {
   "cell_type": "code",
   "execution_count": 24,
   "id": "c1265bb2-e0eb-4464-a2c0-b08cbdcb4550",
   "metadata": {},
   "outputs": [],
   "source": [
    "X = resume_df\n",
    "y = df_pr.loc[:,'category']"
   ]
  },
  {
   "cell_type": "code",
   "execution_count": 25,
   "id": "647a2058-b168-4116-a000-ac63e4d88f31",
   "metadata": {},
   "outputs": [],
   "source": [
    "X_train, X_test, y_train, y_test = train_test_split(X, y, test_size=0.33, random_state=42)"
   ]
  },
  {
   "cell_type": "code",
   "execution_count": null,
   "id": "48a6b1dc-5c4b-45c6-88a7-422128a0d944",
   "metadata": {},
   "outputs": [],
   "source": []
  },
  {
   "cell_type": "code",
   "execution_count": 26,
   "id": "f82f6aa3-4128-4762-a17a-853656892e11",
   "metadata": {},
   "outputs": [
    {
     "data": {
      "text/html": [
       "<style>#sk-container-id-1 {color: black;background-color: white;}#sk-container-id-1 pre{padding: 0;}#sk-container-id-1 div.sk-toggleable {background-color: white;}#sk-container-id-1 label.sk-toggleable__label {cursor: pointer;display: block;width: 100%;margin-bottom: 0;padding: 0.3em;box-sizing: border-box;text-align: center;}#sk-container-id-1 label.sk-toggleable__label-arrow:before {content: \"▸\";float: left;margin-right: 0.25em;color: #696969;}#sk-container-id-1 label.sk-toggleable__label-arrow:hover:before {color: black;}#sk-container-id-1 div.sk-estimator:hover label.sk-toggleable__label-arrow:before {color: black;}#sk-container-id-1 div.sk-toggleable__content {max-height: 0;max-width: 0;overflow: hidden;text-align: left;background-color: #f0f8ff;}#sk-container-id-1 div.sk-toggleable__content pre {margin: 0.2em;color: black;border-radius: 0.25em;background-color: #f0f8ff;}#sk-container-id-1 input.sk-toggleable__control:checked~div.sk-toggleable__content {max-height: 200px;max-width: 100%;overflow: auto;}#sk-container-id-1 input.sk-toggleable__control:checked~label.sk-toggleable__label-arrow:before {content: \"▾\";}#sk-container-id-1 div.sk-estimator input.sk-toggleable__control:checked~label.sk-toggleable__label {background-color: #d4ebff;}#sk-container-id-1 div.sk-label input.sk-toggleable__control:checked~label.sk-toggleable__label {background-color: #d4ebff;}#sk-container-id-1 input.sk-hidden--visually {border: 0;clip: rect(1px 1px 1px 1px);clip: rect(1px, 1px, 1px, 1px);height: 1px;margin: -1px;overflow: hidden;padding: 0;position: absolute;width: 1px;}#sk-container-id-1 div.sk-estimator {font-family: monospace;background-color: #f0f8ff;border: 1px dotted black;border-radius: 0.25em;box-sizing: border-box;margin-bottom: 0.5em;}#sk-container-id-1 div.sk-estimator:hover {background-color: #d4ebff;}#sk-container-id-1 div.sk-parallel-item::after {content: \"\";width: 100%;border-bottom: 1px solid gray;flex-grow: 1;}#sk-container-id-1 div.sk-label:hover label.sk-toggleable__label {background-color: #d4ebff;}#sk-container-id-1 div.sk-serial::before {content: \"\";position: absolute;border-left: 1px solid gray;box-sizing: border-box;top: 0;bottom: 0;left: 50%;z-index: 0;}#sk-container-id-1 div.sk-serial {display: flex;flex-direction: column;align-items: center;background-color: white;padding-right: 0.2em;padding-left: 0.2em;position: relative;}#sk-container-id-1 div.sk-item {position: relative;z-index: 1;}#sk-container-id-1 div.sk-parallel {display: flex;align-items: stretch;justify-content: center;background-color: white;position: relative;}#sk-container-id-1 div.sk-item::before, #sk-container-id-1 div.sk-parallel-item::before {content: \"\";position: absolute;border-left: 1px solid gray;box-sizing: border-box;top: 0;bottom: 0;left: 50%;z-index: -1;}#sk-container-id-1 div.sk-parallel-item {display: flex;flex-direction: column;z-index: 1;position: relative;background-color: white;}#sk-container-id-1 div.sk-parallel-item:first-child::after {align-self: flex-end;width: 50%;}#sk-container-id-1 div.sk-parallel-item:last-child::after {align-self: flex-start;width: 50%;}#sk-container-id-1 div.sk-parallel-item:only-child::after {width: 0;}#sk-container-id-1 div.sk-dashed-wrapped {border: 1px dashed gray;margin: 0 0.4em 0.5em 0.4em;box-sizing: border-box;padding-bottom: 0.4em;background-color: white;}#sk-container-id-1 div.sk-label label {font-family: monospace;font-weight: bold;display: inline-block;line-height: 1.2em;}#sk-container-id-1 div.sk-label-container {text-align: center;}#sk-container-id-1 div.sk-container {/* jupyter's `normalize.less` sets `[hidden] { display: none; }` but bootstrap.min.css set `[hidden] { display: none !important; }` so we also need the `!important` here to be able to override the default hidden behavior on the sphinx rendered scikit-learn.org. See: https://github.com/scikit-learn/scikit-learn/issues/21755 */display: inline-block !important;position: relative;}#sk-container-id-1 div.sk-text-repr-fallback {display: none;}</style><div id=\"sk-container-id-1\" class=\"sk-top-container\"><div class=\"sk-text-repr-fallback\"><pre>LogisticRegression()</pre><b>In a Jupyter environment, please rerun this cell to show the HTML representation or trust the notebook. <br />On GitHub, the HTML representation is unable to render, please try loading this page with nbviewer.org.</b></div><div class=\"sk-container\" hidden><div class=\"sk-item\"><div class=\"sk-estimator sk-toggleable\"><input class=\"sk-toggleable__control sk-hidden--visually\" id=\"sk-estimator-id-1\" type=\"checkbox\" checked><label for=\"sk-estimator-id-1\" class=\"sk-toggleable__label sk-toggleable__label-arrow\">LogisticRegression</label><div class=\"sk-toggleable__content\"><pre>LogisticRegression()</pre></div></div></div></div></div>"
      ],
      "text/plain": [
       "LogisticRegression()"
      ]
     },
     "execution_count": 26,
     "metadata": {},
     "output_type": "execute_result"
    }
   ],
   "source": [
    "lr.fit(X_train,y_train)"
   ]
  },
  {
   "cell_type": "code",
   "execution_count": null,
   "id": "a79520ec-6217-42a8-a4e2-110ce864376e",
   "metadata": {},
   "outputs": [],
   "source": []
  },
  {
   "cell_type": "code",
   "execution_count": null,
   "id": "716bbd9c-87c2-4a4d-847d-4a0686be786d",
   "metadata": {},
   "outputs": [],
   "source": []
  },
  {
   "cell_type": "markdown",
   "id": "19d95f4f-3054-4b10-9450-22a73e28b52f",
   "metadata": {},
   "source": [
    "## Accuracy Scores"
   ]
  },
  {
   "cell_type": "code",
   "execution_count": 28,
   "id": "2984e3ef-e7fd-4c0c-9188-0db3382d7d2e",
   "metadata": {},
   "outputs": [
    {
     "name": "stdout",
     "output_type": "stream",
     "text": [
      "Training accuracy: 0.9984472049689441\n",
      "Testing accuracy: 0.9937106918238994\n"
     ]
    }
   ],
   "source": [
    "print(f\"Training accuracy: {accuracy_score(y_train,lr.predict(X_train))}\\nTesting accuracy: {accuracy_score(y_test,lr.predict(X_test))}\")"
   ]
  },
  {
   "cell_type": "code",
   "execution_count": null,
   "id": "78ce2caa-b79b-4d18-b00b-7dea7cdabe90",
   "metadata": {},
   "outputs": [],
   "source": []
  },
  {
   "cell_type": "code",
   "execution_count": null,
   "id": "c99db6fd-eace-4c91-91b1-3eb8026cd5fc",
   "metadata": {},
   "outputs": [],
   "source": []
  },
  {
   "cell_type": "markdown",
   "id": "9edf69ed-9868-4239-b67d-2dbb07d079e4",
   "metadata": {},
   "source": [
    "## Custom input"
   ]
  },
  {
   "cell_type": "code",
   "execution_count": 29,
   "id": "08175733-4f63-4d83-826a-f4b10cc656a2",
   "metadata": {},
   "outputs": [],
   "source": [
    "sample = '''\n",
    "\n",
    "\n",
    "Advocate Resume Sample\n",
    "26,041 Views 4 Min Read\n",
    "ADAMS KING\n",
    "Chennai, India | adking@gmail.com | 555-5555-55\n",
    "ABOUT MYSELF:\n",
    "• Working as Manager Legal at ampa housing development Itd a division of Ampa Skywalk Mall in chennai.\n",
    "• I am catering to a wide and varied client base, including companies, institutions and individuals. • I have extensive practice in Civil, Consumer, Criminal, Debt Recovery Laws, Real Estate Law,; Deeds and Documentation and Legal Opinions.\n",
    "• I have an active litigation practice regularly representing clients in various matters before different courts/forums, viz., High Courts, Consumer Forums, Civil and Criminal Courts, Tribunals, Trade mark registration and statutory authorities.\n",
    "I am commanding the services of the professional lawyers, supported by qualified junior Advocates and legally trained back office executives.\n",
    "• My professional services are offered to the banks and financial institution, corporate and companies within the short possible time with at most care and professional expertise.\n",
    "EDUCATION\n",
    "Course (Stream)/\n",
    "Examination\n",
    "Institution/University/School\n",
    "Year of Passing\n",
    "Performance\n",
    "B.Com\n",
    "Pachaiyappas College - Chennai, Tamil Nadu\n",
    "2007\n",
    "80%\n",
    "Dr.Ambedkar Law University-\n",
    "B.L\n",
    "2004\n",
    "84%\n",
    "Chennai, Tamil Nadu\n",
    "PGDCA\n",
    "Annamalai university - Chennai,\n",
    "2002\n",
    "80%\n",
    "Tamil Nadu\n",
    "\n",
    "Advocate Resume Sample\n",
    "26,041 Views 4 Min Read\n",
    "ADAMS KING\n",
    "Chennai, India | adking@gmail.com | 555-5555-55\n",
    "ABOUT MYSELF:\n",
    "• Working as Manager Legal at ampa housing development Itd a division of Ampa Skywalk Mall in chennai.\n",
    "• I am catering to a wide and varied client base, including companies, institutions and individuals. • I have extensive practice in Civil, Consumer, Criminal, Debt Recovery Laws, Real Estate Law,; Deeds and Documentation and Legal Opinions.\n",
    "• I have an active litigation practice regularly representing clients in various matters before different courts/forums, viz., High Courts, Consumer Forums, Civil and Criminal Courts, Tribunals, Trade mark registration and statutory authorities.\n",
    "I am commanding the services of the professional lawyers, supported by qualified junior Advocates and legally trained back office executives.\n",
    "• My professional services are offered to the banks and financial institution, corporate and companies within the short possible time with at most care and professional expertise.\n",
    "EDUCATION\n",
    "Course (Stream)/\n",
    "Examination\n",
    "Institution/University/School\n",
    "Year of Passing\n",
    "Performance\n",
    "B.Com\n",
    "Pachaiyappas College - Chennai, Tamil Nadu\n",
    "2007\n",
    "80%\n",
    "Dr.Ambedkar Law University-\n",
    "B.L\n",
    "2004\n",
    "84%\n",
    "Chennai, Tamil Nadu\n",
    "PGDCA\n",
    "Annamalai university - Chennai,\n",
    "2002\n",
    "80%\n",
    "Tamil Nadu\n",
    "'''"
   ]
  },
  {
   "cell_type": "code",
   "execution_count": 30,
   "id": "1aa5cab9-44f3-4aeb-8f54-597d9602c60b",
   "metadata": {},
   "outputs": [],
   "source": [
    "#function for mapping encoded with the labels\n",
    "encoder_df = pd.DataFrame({'category': df['Category'], 'encoded_category': df_pr['category']})\n",
    "cat = encoder_df['category'].unique().tolist()\n",
    "encat = encoder_df['encoded_category'].unique().tolist()\n",
    "dict = {}\n",
    "for i in range(len(cat)):\n",
    "    dict[encat[i]] = cat[i]"
   ]
  },
  {
   "cell_type": "code",
   "execution_count": 31,
   "id": "f2cf4814-2adc-4726-a251-faec701f1d1f",
   "metadata": {},
   "outputs": [
    {
     "data": {
      "text/plain": [
       "{6: 'Data Science',\n",
       " 12: 'HR',\n",
       " 0: 'Advocate',\n",
       " 1: 'Arts',\n",
       " 24: 'Web Designing',\n",
       " 16: 'Mechanical Engineer',\n",
       " 22: 'Sales',\n",
       " 14: 'Health and fitness',\n",
       " 5: 'Civil Engineer',\n",
       " 15: 'Java Developer',\n",
       " 4: 'Business Analyst',\n",
       " 21: 'SAP Developer',\n",
       " 2: 'Automation Testing',\n",
       " 11: 'Electrical Engineering',\n",
       " 18: 'Operations Manager',\n",
       " 20: 'Python Developer',\n",
       " 8: 'DevOps Engineer',\n",
       " 17: 'Network Security Engineer',\n",
       " 19: 'PMO',\n",
       " 7: 'Database',\n",
       " 13: 'Hadoop',\n",
       " 10: 'ETL Developer',\n",
       " 9: 'DotNet Developer',\n",
       " 3: 'Blockchain',\n",
       " 23: 'Testing'}"
      ]
     },
     "execution_count": 31,
     "metadata": {},
     "output_type": "execute_result"
    }
   ],
   "source": [
    "dict"
   ]
  },
  {
   "cell_type": "code",
   "execution_count": 32,
   "id": "e9d991a5-db54-4310-ac6e-536a8a1a2538",
   "metadata": {},
   "outputs": [],
   "source": [
    "def give_input(sample):\n",
    "    pre_txt = preprocessing(sample)\n",
    "    text = vectorizer.transform([pre_txt])\n",
    "    sample_pred = pd.DataFrame(text.toarray(),columns=vectorizer.get_feature_names_out())\n",
    "    pred = lr.predict(sample_pred)\n",
    "    return dict[pred[0]]"
   ]
  },
  {
   "cell_type": "code",
   "execution_count": 33,
   "id": "be572576-628a-4307-aa0c-ace64466d7d5",
   "metadata": {},
   "outputs": [
    {
     "data": {
      "text/plain": [
       "'Advocate'"
      ]
     },
     "execution_count": 33,
     "metadata": {},
     "output_type": "execute_result"
    }
   ],
   "source": [
    "give_input(sample)"
   ]
  }
 ],
 "metadata": {
  "kernelspec": {
   "display_name": "Python 3 (ipykernel)",
   "language": "python",
   "name": "python3"
  },
  "language_info": {
   "codemirror_mode": {
    "name": "ipython",
    "version": 3
   },
   "file_extension": ".py",
   "mimetype": "text/x-python",
   "name": "python",
   "nbconvert_exporter": "python",
   "pygments_lexer": "ipython3",
   "version": "3.11.7"
  }
 },
 "nbformat": 4,
 "nbformat_minor": 5
}
